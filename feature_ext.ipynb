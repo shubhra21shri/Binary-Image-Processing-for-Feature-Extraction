{
 "cells": [
  {
   "cell_type": "code",
   "execution_count": 1,
   "id": "29c43687-7150-410c-8988-b0fd47cb10b4",
   "metadata": {},
   "outputs": [],
   "source": [
    "\n",
    "import cv2 as opencv\n"
   ]
  },
  {
   "cell_type": "code",
   "execution_count": 7,
   "id": "35d48f0c-4f0a-43c2-b1e7-cbfe4d9a92be",
   "metadata": {},
   "outputs": [],
   "source": [
    "import cv2 as opencv\n",
    "\n",
    "# Load the image\n",
    "image = opencv.imread('C:\\\\Users\\\\MMP\\\\Downloads\\\\IMG20240203225133.jpg')\n",
    "\n",
    "# Check if the image is loaded\n",
    "if image is None:\n",
    "    print(\"Error: Could not load image\")\n",
    "else:\n",
    "    # Convert the image to grayscale\n",
    "    gray_image = opencv.cvtColor(image, opencv.COLOR_BGR2GRAY)\n",
    "\n",
    "    # Apply Canny edge detection\n",
    "    edges = opencv.Canny(gray_image, threshold1=0, threshold2=255)\n",
    "\n",
    "    # Apply binary thresholding\n",
    "    _, binary_image = opencv.threshold(image, 127, 255, opencv.THRESH_BINARY)\n",
    "    _, inv_binary_image = opencv.threshold(image, 127, 255, opencv.THRESH_BINARY_INV)\n",
    "    _, trunc_image = opencv.threshold(image, 100, 255, opencv.THRESH_TRUNC)\n",
    "    _, to_zero_image = opencv.threshold(image, 127, 255, opencv.THRESH_TOZERO)\n",
    "    _, to_zero_inv_image = opencv.threshold(image, 127, 255, opencv.THRESH_TOZERO_INV)\n",
    "        \n",
    "    # Display the original image and edges\n",
    "    opencv.imshow('Original Image', image)\n",
    "    opencv.imshow('Edge Detection', edges)\n",
    "\n",
    "    # Display thresholding results   \n",
    "    opencv.imshow('Binary Image', binary_image)    \n",
    "    opencv.imshow('Inverse Binary Image', inv_binary_image) \n",
    "    opencv.imshow('Truncated Image', trunc_image)   \n",
    "    opencv.imshow('To Zero Image', to_zero_image)\n",
    "    opencv.imshow('To Zero Inverse Image', to_zero_inv_image)\n",
    "\n",
    "    # Wait until a key is pressed to close the window \n",
    "    opencv.waitKey(0)\n",
    "\n",
    "    # Close all OpenCV windows\n",
    "    opencv.destroyAllWindows()    \n"
   ]
  },
  {
   "cell_type": "code",
   "execution_count": null,
   "id": "fa3d27a8-9b55-4487-878a-5c2be2550e23",
   "metadata": {},
   "outputs": [],
   "source": [
    "   "
   ]
  },
  {
   "cell_type": "code",
   "execution_count": null,
   "id": "a6db2a6c-6b34-487d-95b8-fa17538d522d",
   "metadata": {},
   "outputs": [],
   "source": []
  },
  {
   "cell_type": "code",
   "execution_count": null,
   "id": "257185b7-9df8-404f-97e6-1b538cf450f2",
   "metadata": {},
   "outputs": [],
   "source": []
  }
 ],
 "metadata": {
  "kernelspec": {
   "display_name": "Python 3 (ipykernel)",
   "language": "python",
   "name": "python3"
  },
  "language_info": {
   "codemirror_mode": {
    "name": "ipython",
    "version": 3
   },
   "file_extension": ".py",
   "mimetype": "text/x-python",
   "name": "python",
   "nbconvert_exporter": "python",
   "pygments_lexer": "ipython3",
   "version": "3.9.18"
  }
 },
 "nbformat": 4,
 "nbformat_minor": 5
}
